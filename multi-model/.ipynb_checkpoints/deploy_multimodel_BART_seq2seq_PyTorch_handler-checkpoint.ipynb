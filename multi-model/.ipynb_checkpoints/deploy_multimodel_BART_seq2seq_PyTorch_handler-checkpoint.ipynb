{
 "cells": [
  {
   "cell_type": "markdown",
   "metadata": {},
   "source": [
    "# Deploy Hugging Face BART transformer model in Amazon SageMaker \n",
    "\n",
    "This notebook is a step-by-step tutorial on deploying a pre-trained Hugging Face model [BART](https://huggingface.co/transformers/model_doc/bart.html) on [PyTorch](https://pytorch.org/) framework. Bart uses a standard seq2seq/machine translation architecture with a bidirectional encoder (like BERT) and a left-to-right decoder (like GPT). Specifically, we use the BART Model with a language modeling head [BartForConditionalGeneration](https://huggingface.co/transformers/model_doc/bart.html#transformers.BartForConditionalGeneration) for summarization task. \n",
    "\n",
    "We will describe the steps for deploying this model similar to any other PyTorch model on Amazon SageMaker with TorchServe serving stack. For training Hugging Face models on SageMaker, refer the examples [here](https://github.com/huggingface/notebooks/tree/master/sagemaker)\n",
    "\n",
    "The outline of steps is as follows:\n",
    "\n",
    "1. Download pre-trained Hugging Face model\n",
    "2. Save and upload model artifact to S3\n",
    "2. Create an inference entrypoint script\n",
    "3. Deploy endpoint\n",
    "4. Trigger endpoint invocation"
   ]
  },
  {
   "cell_type": "code",
   "execution_count": null,
   "metadata": {},
   "outputs": [],
   "source": [
    "!pip install -U sagemaker"
   ]
  },
  {
   "cell_type": "code",
   "execution_count": 3,
   "metadata": {},
   "outputs": [],
   "source": [
    "import sagemaker\n",
    "from sagemaker import get_execution_role\n",
    "from sagemaker.utils import name_from_base\n",
    "from sagemaker.pytorch import PyTorchModel\n",
    "from sagemaker.predictor import Predictor\n",
    "from sagemaker.serializers import JSONSerializer\n",
    "from sagemaker.deserializers import JSONDeserializer\n",
    "import boto3\n",
    "import torch\n",
    "role = sagemaker.get_execution_role()\n"
   ]
  },
  {
   "cell_type": "code",
   "execution_count": 265,
   "metadata": {},
   "outputs": [
    {
     "name": "stdout",
     "output_type": "stream",
     "text": [
      "us-east-1\n"
     ]
    }
   ],
   "source": [
    "region = boto3.session.Session().region_name\n",
    "print(region)\n",
    "\n",
    "role = sagemaker.get_execution_role()\n",
    "\n",
    "\n",
    "bucket = sagemaker.Session().default_bucket()\n",
    "\n",
    "\n",
    "prefix='bart-multimodel-pytorch'\n",
    "\n",
    "model_data_path = 's3://{0}/{1}/models'.format(bucket,prefix)\n"
   ]
  },
  {
   "cell_type": "markdown",
   "metadata": {},
   "source": [
    "## Download the Hugging Face pretrained model"
   ]
  },
  {
   "cell_type": "code",
   "execution_count": 5,
   "metadata": {},
   "outputs": [
    {
     "name": "stdout",
     "output_type": "stream",
     "text": [
      "Requirement already satisfied: transformers in /home/ec2-user/anaconda3/envs/pytorch_p36/lib/python3.6/site-packages (4.2.2)\n",
      "Requirement already satisfied: regex!=2019.12.17 in /home/ec2-user/anaconda3/envs/pytorch_p36/lib/python3.6/site-packages (from transformers) (2020.11.13)\n",
      "Requirement already satisfied: requests in /home/ec2-user/anaconda3/envs/pytorch_p36/lib/python3.6/site-packages (from transformers) (2.25.0)\n",
      "Requirement already satisfied: dataclasses in /home/ec2-user/anaconda3/envs/pytorch_p36/lib/python3.6/site-packages (from transformers) (0.8)\n",
      "Requirement already satisfied: packaging in /home/ec2-user/anaconda3/envs/pytorch_p36/lib/python3.6/site-packages (from transformers) (20.7)\n",
      "Requirement already satisfied: tokenizers==0.9.4 in /home/ec2-user/anaconda3/envs/pytorch_p36/lib/python3.6/site-packages (from transformers) (0.9.4)\n",
      "Requirement already satisfied: importlib-metadata in /home/ec2-user/anaconda3/envs/pytorch_p36/lib/python3.6/site-packages (from transformers) (3.1.0)\n",
      "Requirement already satisfied: filelock in /home/ec2-user/anaconda3/envs/pytorch_p36/lib/python3.6/site-packages (from transformers) (3.0.12)\n",
      "Requirement already satisfied: numpy in /home/ec2-user/anaconda3/envs/pytorch_p36/lib/python3.6/site-packages (from transformers) (1.19.4)\n",
      "Requirement already satisfied: tqdm>=4.27 in /home/ec2-user/anaconda3/envs/pytorch_p36/lib/python3.6/site-packages (from transformers) (4.42.1)\n",
      "Requirement already satisfied: sacremoses in /home/ec2-user/anaconda3/envs/pytorch_p36/lib/python3.6/site-packages (from transformers) (0.0.43)\n",
      "Requirement already satisfied: zipp>=0.5 in /home/ec2-user/anaconda3/envs/pytorch_p36/lib/python3.6/site-packages (from importlib-metadata->transformers) (3.4.0)\n",
      "Requirement already satisfied: pyparsing>=2.0.2 in /home/ec2-user/anaconda3/envs/pytorch_p36/lib/python3.6/site-packages (from packaging->transformers) (2.4.7)\n",
      "Requirement already satisfied: urllib3<1.27,>=1.21.1 in /home/ec2-user/anaconda3/envs/pytorch_p36/lib/python3.6/site-packages (from requests->transformers) (1.25.11)\n",
      "Requirement already satisfied: idna<3,>=2.5 in /home/ec2-user/anaconda3/envs/pytorch_p36/lib/python3.6/site-packages (from requests->transformers) (2.10)\n",
      "Requirement already satisfied: certifi>=2017.4.17 in /home/ec2-user/anaconda3/envs/pytorch_p36/lib/python3.6/site-packages (from requests->transformers) (2020.11.8)\n",
      "Requirement already satisfied: chardet<4,>=3.0.2 in /home/ec2-user/anaconda3/envs/pytorch_p36/lib/python3.6/site-packages (from requests->transformers) (3.0.4)\n",
      "Requirement already satisfied: regex!=2019.12.17 in /home/ec2-user/anaconda3/envs/pytorch_p36/lib/python3.6/site-packages (from transformers) (2020.11.13)\n",
      "Requirement already satisfied: tqdm>=4.27 in /home/ec2-user/anaconda3/envs/pytorch_p36/lib/python3.6/site-packages (from transformers) (4.42.1)\n",
      "Requirement already satisfied: click in /home/ec2-user/anaconda3/envs/pytorch_p36/lib/python3.6/site-packages (from sacremoses->transformers) (7.0)\n",
      "Requirement already satisfied: six in /home/ec2-user/anaconda3/envs/pytorch_p36/lib/python3.6/site-packages (from sacremoses->transformers) (1.15.0)\n",
      "Requirement already satisfied: joblib in /home/ec2-user/anaconda3/envs/pytorch_p36/lib/python3.6/site-packages (from sacremoses->transformers) (0.14.1)\n",
      "\u001b[33mWARNING: You are using pip version 20.3; however, version 21.0.1 is available.\n",
      "You should consider upgrading via the '/home/ec2-user/anaconda3/envs/pytorch_p36/bin/python -m pip install --upgrade pip' command.\u001b[0m\n"
     ]
    }
   ],
   "source": [
    "!pip install transformers"
   ]
  },
  {
   "cell_type": "code",
   "execution_count": 7,
   "metadata": {},
   "outputs": [
    {
     "name": "stdout",
     "output_type": "stream",
     "text": [
      "transformers==4.2.2\r\n"
     ]
    }
   ],
   "source": [
    "!pip freeze | grep transformers"
   ]
  },
  {
   "cell_type": "code",
   "execution_count": 8,
   "metadata": {},
   "outputs": [
    {
     "name": "stdout",
     "output_type": "stream",
     "text": [
      "Requirement already satisfied: ipywidgets in /home/ec2-user/anaconda3/envs/pytorch_p36/lib/python3.6/site-packages (7.5.1)\n",
      "Collecting ipywidgets\n",
      "  Downloading ipywidgets-7.6.3-py2.py3-none-any.whl (121 kB)\n",
      "\u001b[K     |████████████████████████████████| 121 kB 25.8 MB/s eta 0:00:01\n",
      "\u001b[?25hRequirement already satisfied: nbformat>=4.2.0 in /home/ec2-user/anaconda3/envs/pytorch_p36/lib/python3.6/site-packages (from ipywidgets) (5.0.4)\n",
      "Requirement already satisfied: traitlets>=4.3.1 in /home/ec2-user/anaconda3/envs/pytorch_p36/lib/python3.6/site-packages (from ipywidgets) (4.3.3)\n",
      "Requirement already satisfied: ipykernel>=4.5.1 in /home/ec2-user/anaconda3/envs/pytorch_p36/lib/python3.6/site-packages (from ipywidgets) (5.1.4)\n",
      "Requirement already satisfied: ipython>=4.0.0 in /home/ec2-user/anaconda3/envs/pytorch_p36/lib/python3.6/site-packages (from ipywidgets) (7.12.0)\n",
      "Requirement already satisfied: widgetsnbextension~=3.5.0 in /home/ec2-user/anaconda3/envs/pytorch_p36/lib/python3.6/site-packages (from ipywidgets) (3.5.1)\n",
      "Requirement already satisfied: traitlets>=4.3.1 in /home/ec2-user/anaconda3/envs/pytorch_p36/lib/python3.6/site-packages (from ipywidgets) (4.3.3)\n",
      "Requirement already satisfied: jupyter-client in /home/ec2-user/anaconda3/envs/pytorch_p36/lib/python3.6/site-packages (from ipykernel>=4.5.1->ipywidgets) (5.3.4)\n",
      "Requirement already satisfied: ipython>=4.0.0 in /home/ec2-user/anaconda3/envs/pytorch_p36/lib/python3.6/site-packages (from ipywidgets) (7.12.0)\n",
      "Requirement already satisfied: tornado>=4.2 in /home/ec2-user/anaconda3/envs/pytorch_p36/lib/python3.6/site-packages (from ipykernel>=4.5.1->ipywidgets) (6.0.3)\n",
      "Requirement already satisfied: jedi>=0.10 in /home/ec2-user/anaconda3/envs/pytorch_p36/lib/python3.6/site-packages (from ipython>=4.0.0->ipywidgets) (0.14.1)\n",
      "Requirement already satisfied: pickleshare in /home/ec2-user/anaconda3/envs/pytorch_p36/lib/python3.6/site-packages (from ipython>=4.0.0->ipywidgets) (0.7.5)\n",
      "Requirement already satisfied: pygments in /home/ec2-user/anaconda3/envs/pytorch_p36/lib/python3.6/site-packages (from ipython>=4.0.0->ipywidgets) (2.5.2)\n",
      "Requirement already satisfied: prompt-toolkit!=3.0.0,!=3.0.1,<3.1.0,>=2.0.0 in /home/ec2-user/anaconda3/envs/pytorch_p36/lib/python3.6/site-packages (from ipython>=4.0.0->ipywidgets) (3.0.3)\n",
      "Requirement already satisfied: decorator in /home/ec2-user/anaconda3/envs/pytorch_p36/lib/python3.6/site-packages (from ipython>=4.0.0->ipywidgets) (4.4.1)\n",
      "Requirement already satisfied: backcall in /home/ec2-user/anaconda3/envs/pytorch_p36/lib/python3.6/site-packages (from ipython>=4.0.0->ipywidgets) (0.1.0)\n",
      "Requirement already satisfied: traitlets>=4.3.1 in /home/ec2-user/anaconda3/envs/pytorch_p36/lib/python3.6/site-packages (from ipywidgets) (4.3.3)\n",
      "Requirement already satisfied: setuptools>=18.5 in /home/ec2-user/anaconda3/envs/pytorch_p36/lib/python3.6/site-packages (from ipython>=4.0.0->ipywidgets) (45.2.0.post20200210)\n",
      "Requirement already satisfied: pexpect in /home/ec2-user/anaconda3/envs/pytorch_p36/lib/python3.6/site-packages (from ipython>=4.0.0->ipywidgets) (4.8.0)\n",
      "Requirement already satisfied: parso>=0.5.0 in /home/ec2-user/anaconda3/envs/pytorch_p36/lib/python3.6/site-packages (from jedi>=0.10->ipython>=4.0.0->ipywidgets) (0.5.2)\n",
      "Requirement already satisfied: jupyter-core>=4.6.0 in /home/ec2-user/anaconda3/envs/pytorch_p36/lib/python3.6/site-packages (from jupyter-client->ipykernel>=4.5.1->ipywidgets) (4.6.1)\n",
      "Requirement already satisfied: traitlets>=4.3.1 in /home/ec2-user/anaconda3/envs/pytorch_p36/lib/python3.6/site-packages (from ipywidgets) (4.3.3)\n",
      "Requirement already satisfied: tornado>=4.2 in /home/ec2-user/anaconda3/envs/pytorch_p36/lib/python3.6/site-packages (from ipykernel>=4.5.1->ipywidgets) (6.0.3)\n",
      "Requirement already satisfied: python-dateutil>=2.1 in /home/ec2-user/anaconda3/envs/pytorch_p36/lib/python3.6/site-packages (from jupyter-client->ipykernel>=4.5.1->ipywidgets) (2.8.1)\n",
      "Requirement already satisfied: pyzmq>=13 in /home/ec2-user/anaconda3/envs/pytorch_p36/lib/python3.6/site-packages (from jupyter-client->ipykernel>=4.5.1->ipywidgets) (18.1.1)\n",
      "Requirement already satisfied: traitlets>=4.3.1 in /home/ec2-user/anaconda3/envs/pytorch_p36/lib/python3.6/site-packages (from ipywidgets) (4.3.3)\n",
      "Collecting jupyterlab-widgets>=1.0.0\n",
      "  Downloading jupyterlab_widgets-1.0.0-py3-none-any.whl (243 kB)\n",
      "\u001b[K     |████████████████████████████████| 243 kB 61.6 MB/s eta 0:00:01\n",
      "\u001b[?25hRequirement already satisfied: traitlets>=4.3.1 in /home/ec2-user/anaconda3/envs/pytorch_p36/lib/python3.6/site-packages (from ipywidgets) (4.3.3)\n",
      "Requirement already satisfied: jsonschema!=2.5.0,>=2.4 in /home/ec2-user/anaconda3/envs/pytorch_p36/lib/python3.6/site-packages (from nbformat>=4.2.0->ipywidgets) (3.2.0)\n",
      "Requirement already satisfied: jupyter-core>=4.6.0 in /home/ec2-user/anaconda3/envs/pytorch_p36/lib/python3.6/site-packages (from jupyter-client->ipykernel>=4.5.1->ipywidgets) (4.6.1)\n",
      "Requirement already satisfied: ipython-genutils in /home/ec2-user/anaconda3/envs/pytorch_p36/lib/python3.6/site-packages (from nbformat>=4.2.0->ipywidgets) (0.2.0)\n",
      "Requirement already satisfied: six>=1.11.0 in /home/ec2-user/anaconda3/envs/pytorch_p36/lib/python3.6/site-packages (from jsonschema!=2.5.0,>=2.4->nbformat>=4.2.0->ipywidgets) (1.15.0)\n",
      "Requirement already satisfied: setuptools>=18.5 in /home/ec2-user/anaconda3/envs/pytorch_p36/lib/python3.6/site-packages (from ipython>=4.0.0->ipywidgets) (45.2.0.post20200210)\n",
      "Requirement already satisfied: importlib-metadata in /home/ec2-user/anaconda3/envs/pytorch_p36/lib/python3.6/site-packages (from jsonschema!=2.5.0,>=2.4->nbformat>=4.2.0->ipywidgets) (3.1.0)\n",
      "Requirement already satisfied: pyrsistent>=0.14.0 in /home/ec2-user/anaconda3/envs/pytorch_p36/lib/python3.6/site-packages (from jsonschema!=2.5.0,>=2.4->nbformat>=4.2.0->ipywidgets) (0.15.7)\n",
      "Requirement already satisfied: attrs>=17.4.0 in /home/ec2-user/anaconda3/envs/pytorch_p36/lib/python3.6/site-packages (from jsonschema!=2.5.0,>=2.4->nbformat>=4.2.0->ipywidgets) (20.3.0)\n",
      "Requirement already satisfied: zipp>=0.5 in /home/ec2-user/anaconda3/envs/pytorch_p36/lib/python3.6/site-packages (from importlib-metadata->jsonschema!=2.5.0,>=2.4->nbformat>=4.2.0->ipywidgets) (3.4.0)\n",
      "Requirement already satisfied: ptyprocess>=0.5 in /home/ec2-user/anaconda3/envs/pytorch_p36/lib/python3.6/site-packages (from pexpect->ipython>=4.0.0->ipywidgets) (0.6.0)\n",
      "Requirement already satisfied: wcwidth in /home/ec2-user/anaconda3/envs/pytorch_p36/lib/python3.6/site-packages (from prompt-toolkit!=3.0.0,!=3.0.1,<3.1.0,>=2.0.0->ipython>=4.0.0->ipywidgets) (0.1.8)\n",
      "Requirement already satisfied: six>=1.11.0 in /home/ec2-user/anaconda3/envs/pytorch_p36/lib/python3.6/site-packages (from jsonschema!=2.5.0,>=2.4->nbformat>=4.2.0->ipywidgets) (1.15.0)\n",
      "Requirement already satisfied: six>=1.11.0 in /home/ec2-user/anaconda3/envs/pytorch_p36/lib/python3.6/site-packages (from jsonschema!=2.5.0,>=2.4->nbformat>=4.2.0->ipywidgets) (1.15.0)\n",
      "Requirement already satisfied: six>=1.11.0 in /home/ec2-user/anaconda3/envs/pytorch_p36/lib/python3.6/site-packages (from jsonschema!=2.5.0,>=2.4->nbformat>=4.2.0->ipywidgets) (1.15.0)\n",
      "Requirement already satisfied: decorator in /home/ec2-user/anaconda3/envs/pytorch_p36/lib/python3.6/site-packages (from ipython>=4.0.0->ipywidgets) (4.4.1)\n",
      "Requirement already satisfied: ipython-genutils in /home/ec2-user/anaconda3/envs/pytorch_p36/lib/python3.6/site-packages (from nbformat>=4.2.0->ipywidgets) (0.2.0)\n",
      "Requirement already satisfied: notebook>=4.4.1 in /home/ec2-user/anaconda3/envs/pytorch_p36/lib/python3.6/site-packages (from widgetsnbextension~=3.5.0->ipywidgets) (6.0.3)\n",
      "Requirement already satisfied: jupyter-core>=4.6.0 in /home/ec2-user/anaconda3/envs/pytorch_p36/lib/python3.6/site-packages (from jupyter-client->ipykernel>=4.5.1->ipywidgets) (4.6.1)\n",
      "Requirement already satisfied: prometheus-client in /home/ec2-user/anaconda3/envs/pytorch_p36/lib/python3.6/site-packages (from notebook>=4.4.1->widgetsnbextension~=3.5.0->ipywidgets) (0.7.1)\n",
      "Requirement already satisfied: Send2Trash in /home/ec2-user/anaconda3/envs/pytorch_p36/lib/python3.6/site-packages (from notebook>=4.4.1->widgetsnbextension~=3.5.0->ipywidgets) (1.5.0)\n",
      "Requirement already satisfied: pyzmq>=13 in /home/ec2-user/anaconda3/envs/pytorch_p36/lib/python3.6/site-packages (from jupyter-client->ipykernel>=4.5.1->ipywidgets) (18.1.1)\n",
      "Requirement already satisfied: jinja2 in /home/ec2-user/anaconda3/envs/pytorch_p36/lib/python3.6/site-packages (from notebook>=4.4.1->widgetsnbextension~=3.5.0->ipywidgets) (2.11.1)\n",
      "Requirement already satisfied: traitlets>=4.3.1 in /home/ec2-user/anaconda3/envs/pytorch_p36/lib/python3.6/site-packages (from ipywidgets) (4.3.3)\n",
      "Requirement already satisfied: jupyter-client in /home/ec2-user/anaconda3/envs/pytorch_p36/lib/python3.6/site-packages (from ipykernel>=4.5.1->ipywidgets) (5.3.4)\n",
      "Requirement already satisfied: ipython-genutils in /home/ec2-user/anaconda3/envs/pytorch_p36/lib/python3.6/site-packages (from nbformat>=4.2.0->ipywidgets) (0.2.0)\n",
      "Requirement already satisfied: nbconvert in /home/ec2-user/anaconda3/envs/pytorch_p36/lib/python3.6/site-packages (from notebook>=4.4.1->widgetsnbextension~=3.5.0->ipywidgets) (5.6.1)\n",
      "Requirement already satisfied: terminado>=0.8.1 in /home/ec2-user/anaconda3/envs/pytorch_p36/lib/python3.6/site-packages (from notebook>=4.4.1->widgetsnbextension~=3.5.0->ipywidgets) (0.8.3)\n",
      "Requirement already satisfied: nbformat>=4.2.0 in /home/ec2-user/anaconda3/envs/pytorch_p36/lib/python3.6/site-packages (from ipywidgets) (5.0.4)\n",
      "Requirement already satisfied: ipykernel>=4.5.1 in /home/ec2-user/anaconda3/envs/pytorch_p36/lib/python3.6/site-packages (from ipywidgets) (5.1.4)\n",
      "Requirement already satisfied: tornado>=4.2 in /home/ec2-user/anaconda3/envs/pytorch_p36/lib/python3.6/site-packages (from ipykernel>=4.5.1->ipywidgets) (6.0.3)\n"
     ]
    },
    {
     "name": "stdout",
     "output_type": "stream",
     "text": [
      "Requirement already satisfied: MarkupSafe>=0.23 in /home/ec2-user/anaconda3/envs/pytorch_p36/lib/python3.6/site-packages (from jinja2->notebook>=4.4.1->widgetsnbextension~=3.5.0->ipywidgets) (1.1.1)\n",
      "Requirement already satisfied: jinja2 in /home/ec2-user/anaconda3/envs/pytorch_p36/lib/python3.6/site-packages (from notebook>=4.4.1->widgetsnbextension~=3.5.0->ipywidgets) (2.11.1)\n",
      "Requirement already satisfied: pygments in /home/ec2-user/anaconda3/envs/pytorch_p36/lib/python3.6/site-packages (from ipython>=4.0.0->ipywidgets) (2.5.2)\n",
      "Requirement already satisfied: defusedxml in /home/ec2-user/anaconda3/envs/pytorch_p36/lib/python3.6/site-packages (from nbconvert->notebook>=4.4.1->widgetsnbextension~=3.5.0->ipywidgets) (0.6.0)\n",
      "Requirement already satisfied: pandocfilters>=1.4.1 in /home/ec2-user/anaconda3/envs/pytorch_p36/lib/python3.6/site-packages (from nbconvert->notebook>=4.4.1->widgetsnbextension~=3.5.0->ipywidgets) (1.4.2)\n",
      "Requirement already satisfied: mistune<2,>=0.8.1 in /home/ec2-user/anaconda3/envs/pytorch_p36/lib/python3.6/site-packages (from nbconvert->notebook>=4.4.1->widgetsnbextension~=3.5.0->ipywidgets) (0.8.4)\n",
      "Requirement already satisfied: traitlets>=4.3.1 in /home/ec2-user/anaconda3/envs/pytorch_p36/lib/python3.6/site-packages (from ipywidgets) (4.3.3)\n",
      "Requirement already satisfied: nbformat>=4.2.0 in /home/ec2-user/anaconda3/envs/pytorch_p36/lib/python3.6/site-packages (from ipywidgets) (5.0.4)\n",
      "Requirement already satisfied: entrypoints>=0.2.2 in /home/ec2-user/anaconda3/envs/pytorch_p36/lib/python3.6/site-packages (from nbconvert->notebook>=4.4.1->widgetsnbextension~=3.5.0->ipywidgets) (0.3)\n",
      "Requirement already satisfied: bleach in /home/ec2-user/anaconda3/envs/pytorch_p36/lib/python3.6/site-packages (from nbconvert->notebook>=4.4.1->widgetsnbextension~=3.5.0->ipywidgets) (3.2.1)\n",
      "Requirement already satisfied: jupyter-core>=4.6.0 in /home/ec2-user/anaconda3/envs/pytorch_p36/lib/python3.6/site-packages (from jupyter-client->ipykernel>=4.5.1->ipywidgets) (4.6.1)\n",
      "Requirement already satisfied: testpath in /home/ec2-user/anaconda3/envs/pytorch_p36/lib/python3.6/site-packages (from nbconvert->notebook>=4.4.1->widgetsnbextension~=3.5.0->ipywidgets) (0.4.4)\n",
      "Requirement already satisfied: packaging in /home/ec2-user/anaconda3/envs/pytorch_p36/lib/python3.6/site-packages (from bleach->nbconvert->notebook>=4.4.1->widgetsnbextension~=3.5.0->ipywidgets) (20.7)\n",
      "Requirement already satisfied: six>=1.11.0 in /home/ec2-user/anaconda3/envs/pytorch_p36/lib/python3.6/site-packages (from jsonschema!=2.5.0,>=2.4->nbformat>=4.2.0->ipywidgets) (1.15.0)\n",
      "Requirement already satisfied: webencodings in /home/ec2-user/anaconda3/envs/pytorch_p36/lib/python3.6/site-packages (from bleach->nbconvert->notebook>=4.4.1->widgetsnbextension~=3.5.0->ipywidgets) (0.5.1)\n",
      "Requirement already satisfied: pyparsing>=2.0.2 in /home/ec2-user/anaconda3/envs/pytorch_p36/lib/python3.6/site-packages (from packaging->bleach->nbconvert->notebook>=4.4.1->widgetsnbextension~=3.5.0->ipywidgets) (2.4.7)\n",
      "Installing collected packages: jupyterlab-widgets, ipywidgets\n",
      "  Attempting uninstall: ipywidgets\n",
      "    Found existing installation: ipywidgets 7.5.1\n",
      "    Uninstalling ipywidgets-7.5.1:\n",
      "      Successfully uninstalled ipywidgets-7.5.1\n",
      "Successfully installed ipywidgets-7.6.3 jupyterlab-widgets-1.0.0\n",
      "\u001b[33mWARNING: You are using pip version 20.3; however, version 21.0.1 is available.\n",
      "You should consider upgrading via the '/home/ec2-user/anaconda3/envs/pytorch_p36/bin/python -m pip install --upgrade pip' command.\u001b[0m\n",
      "Note: you may need to restart the kernel to use updated packages.\n"
     ]
    }
   ],
   "source": [
    "pip install -U ipywidgets"
   ]
  },
  {
   "cell_type": "code",
   "execution_count": 9,
   "metadata": {},
   "outputs": [],
   "source": [
    "from transformers import BartForConditionalGeneration, BartTokenizer, BartConfig"
   ]
  },
  {
   "cell_type": "code",
   "execution_count": 228,
   "metadata": {},
   "outputs": [],
   "source": [
    "#Create a fine-tuned bart transformer  and host on S3 bucket\n",
    "#This is generally a training process to fine tune as per your own data\n",
    "#In this example, we save the exact pretrained model itself\n",
    "PRE_TRAINED_MODEL_NAME1='facebook/bart-large-cnn'\n",
    "model1 = BartForConditionalGeneration.from_pretrained(PRE_TRAINED_MODEL_NAME1)"
   ]
  },
  {
   "cell_type": "code",
   "execution_count": 229,
   "metadata": {},
   "outputs": [],
   "source": [
    "#Create a fine-tuned bart transformer  and host on S3 bucket\n",
    "#This is generally a training process to fine tune as per your own data\n",
    "#In this example, we save the exact pretrained model itself\n",
    "PRE_TRAINED_MODEL_NAME2='sshleifer/distilbart-cnn-12-6'\n",
    "model2 = BartForConditionalGeneration.from_pretrained(PRE_TRAINED_MODEL_NAME2)\n"
   ]
  },
  {
   "cell_type": "markdown",
   "metadata": {},
   "source": [
    "## Save and upload model archive to S3 \n"
   ]
  },
  {
   "cell_type": "code",
   "execution_count": 230,
   "metadata": {},
   "outputs": [
    {
     "name": "stdout",
     "output_type": "stream",
     "text": [
      "mkdir: cannot create directory ‘models’: File exists\r\n"
     ]
    }
   ],
   "source": [
    "!mkdir models\n",
    "!mkdir models/model1\n",
    "!mkdir models/model2\n",
    "torch.save(model1.state_dict(), 'models/model1/model.pth')\n",
    "torch.save(model2.state_dict(), 'models/model2/model.pth')"
   ]
  },
  {
   "cell_type": "code",
   "execution_count": 120,
   "metadata": {},
   "outputs": [
    {
     "name": "stdout",
     "output_type": "stream",
     "text": [
      "\u001b[33mWARNING: You are using pip version 20.3; however, version 21.0.1 is available.\r\n",
      "You should consider upgrading via the '/home/ec2-user/anaconda3/envs/pytorch_p36/bin/python -m pip install --upgrade pip' command.\u001b[0m\r\n"
     ]
    }
   ],
   "source": [
    "!pip install -q torch-model-archiver"
   ]
  },
  {
   "cell_type": "code",
   "execution_count": 231,
   "metadata": {},
   "outputs": [],
   "source": [
    "from model_archiver import model_packaging\n",
    "from model_archiver import model_packaging_utils\n",
    "from model_archiver import arg_parser\n",
    "arguments = '--model-name summarizer1 --version 1.0 \\\n",
    "--serialized-file models/model1/model.pth --export-path models \\\n",
    "--handler sagemaker_pytorch_serving_container.handler_service --archive-format no-archive'\n",
    "args = arg_parser.ArgParser.export_model_args_parser().parse_args(arguments.split(' '))\n",
    "manifest = model_packaging_utils.ModelExportUtils.generate_manifest_json(args)\n",
    "model_packaging.package_model(args, manifest=manifest)"
   ]
  },
  {
   "cell_type": "code",
   "execution_count": 232,
   "metadata": {},
   "outputs": [],
   "source": [
    "!rm -rf models/model1"
   ]
  },
  {
   "cell_type": "code",
   "execution_count": 234,
   "metadata": {},
   "outputs": [],
   "source": [
    "from model_archiver import model_packaging\n",
    "from model_archiver import model_packaging_utils\n",
    "from model_archiver import arg_parser\n",
    "arguments = '--model-name summarizer2 --version 1.0 \\\n",
    "--serialized-file models/model2/model.pth --export-path models \\\n",
    "--handler sagemaker_pytorch_serving_container.handler_service --archive-format no-archive'\n",
    "args = arg_parser.ArgParser.export_model_args_parser().parse_args(arguments.split(' '))\n",
    "manifest = model_packaging_utils.ModelExportUtils.generate_manifest_json(args)\n",
    "model_packaging.package_model(args, manifest=manifest)"
   ]
  },
  {
   "cell_type": "code",
   "execution_count": 124,
   "metadata": {},
   "outputs": [],
   "source": [
    "#from model_archiver import model_packaging\n",
    "#from model_archiver import model_packaging_utils\n",
    "#from model_archiver import arg_parser\n",
    "#arguments = '--model-name summarizer2 --version 1.0 \\\n",
    "--serialized-file models/model2/model.pth --export-path models \\\n",
    "--extra-files source_dir/model2/config.py,source_dir/model2/setup.py,source_dir/model2/inference.py \\\n",
    "--requirements-file source_dir/model2/requirements.txt \\\n",
    "--handler sagemaker_pytorch_serving_container.handler_service --archive-format no-archive'\n",
    "#args = arg_parser.ArgParser.export_model_args_parser().parse_args(arguments.split(' '))\n",
    "#manifest = model_packaging_utils.ModelExportUtils.generate_manifest_json(args)\n",
    "#model_packaging.package_model(args, manifest=manifest)"
   ]
  },
  {
   "cell_type": "code",
   "execution_count": 235,
   "metadata": {},
   "outputs": [],
   "source": [
    "!rm -rf models/model2"
   ]
  },
  {
   "cell_type": "code",
   "execution_count": 251,
   "metadata": {},
   "outputs": [
    {
     "name": "stdout",
     "output_type": "stream",
     "text": [
      "mkdir: cannot create directory ‘models/summarizer1/code’: File exists\n",
      "mkdir: cannot create directory ‘models/summarizer2/code’: File exists\n",
      "cp: omitting directory ‘source_dir/model1/__pycache__’\n"
     ]
    }
   ],
   "source": [
    "!mkdir models/summarizer1/code\n",
    "!mkdir models/summarizer2/code\n",
    "!cp source_dir/model1/* models/summarizer1/code/\n",
    "!cp source_dir/model2/* models/summarizer2/code/"
   ]
  },
  {
   "cell_type": "code",
   "execution_count": 252,
   "metadata": {},
   "outputs": [
    {
     "name": "stdout",
     "output_type": "stream",
     "text": [
      "./\n",
      "./code/\n",
      "./code/config.py\n",
      "./code/inference.py\n",
      "./code/requirements.txt\n",
      "./code/setup.py\n",
      "./model.pth\n",
      "./MAR-INF/\n",
      "./MAR-INF/MANIFEST.json\n",
      "./requirements.txt\n",
      "./\n",
      "./code/\n",
      "./code/config.py\n",
      "./code/inference.py\n",
      "./code/requirements.txt\n",
      "./code/setup.py\n",
      "./model.pth\n",
      "./MAR-INF/\n",
      "./MAR-INF/MANIFEST.json\n",
      "./requirements.txt\n"
     ]
    }
   ],
   "source": [
    "!tar -czvf models/summarizer1.tar.gz -C models/summarizer1/ .\n",
    "!tar -czvf models/summarizer2.tar.gz -C models/summarizer2/ ."
   ]
  },
  {
   "cell_type": "code",
   "execution_count": 253,
   "metadata": {},
   "outputs": [
    {
     "data": {
      "text/plain": [
       "'s3://sagemaker-us-east-1-208480242416/bart-multimodel-pytorch/models/summarizer2.tar.gz'"
      ]
     },
     "execution_count": 253,
     "metadata": {},
     "output_type": "execute_result"
    }
   ],
   "source": [
    "from sagemaker.s3 import S3Uploader\n",
    "S3Uploader.upload('models/summarizer1.tar.gz', model_data_path)\n",
    "S3Uploader.upload('models/summarizer2.tar.gz', model_data_path)"
   ]
  },
  {
   "cell_type": "markdown",
   "metadata": {},
   "source": [
    "## Create a MultiDataModel and deploy to a SageMaker endpoint"
   ]
  },
  {
   "cell_type": "code",
   "execution_count": 254,
   "metadata": {},
   "outputs": [
    {
     "name": "stdout",
     "output_type": "stream",
     "text": [
      "763104351884.dkr.ecr.us-east-1.amazonaws.com/pytorch-inference:1.6.0-cpu-py3\n"
     ]
    }
   ],
   "source": [
    "from sagemaker import image_uris\n",
    "from sagemaker.model import Model\n",
    "from sagemaker.pytorch import PyTorchModel\n",
    "from sagemaker.predictor import Predictor\n",
    "from sagemaker.predictor import RealTimePredictor\n",
    "from sagemaker.multidatamodel import MultiDataModel\n",
    "from sagemaker.serializers import JSONSerializer\n",
    "from sagemaker.deserializers import JSONDeserializer\n",
    "\n",
    "image = image_uris.retrieve(framework='pytorch',\n",
    "                           region=region,\n",
    "                           version='1.6.0',\n",
    "                           py_version='py3',\n",
    "                           instance_type='ml.m5.4xlarge',\n",
    "                           image_scope='inference')\n",
    "\n",
    "print(image)"
   ]
  },
  {
   "cell_type": "code",
   "execution_count": 255,
   "metadata": {},
   "outputs": [
    {
     "name": "stdout",
     "output_type": "stream",
     "text": [
      "---------------!"
     ]
    }
   ],
   "source": [
    "import time\n",
    "\n",
    "dummy_model = Model(name = 'dummy_model_pt',\n",
    "                    image_uri = image,\n",
    "                    role = role,\n",
    "                    model_data = '',\n",
    "                    env = {\n",
    "                        'SAGEMAKER_MULTI_MODE' : 'true'\n",
    "                    })\n",
    "\n",
    "multi_model = MultiDataModel(name              = 'pytorch-multi-model-summarizer-' + time.strftime(\"%Y-%m-%d-%H-%M-%S\", time.gmtime()),\n",
    "                             model             = dummy_model,\n",
    "                             model_data_prefix = model_data_path)\n",
    "\n",
    "endpoint_name = 'torchserve-multimodel-summarizer-endpoint-' + time.strftime(\"%Y-%m-%d-%H-%M-%S\", time.gmtime())\n",
    "\n",
    "predictor = multi_model.deploy(instance_type='ml.m5.4xlarge',\n",
    "                               initial_instance_count=1,\n",
    "                               endpoint_name = endpoint_name)"
   ]
  },
  {
   "cell_type": "code",
   "execution_count": 256,
   "metadata": {},
   "outputs": [
    {
     "name": "stdout",
     "output_type": "stream",
     "text": [
      "s3://sagemaker-us-east-1-208480242416/bart-multimodel-pytorch/models\n"
     ]
    }
   ],
   "source": [
    "print(model_data_path)"
   ]
  },
  {
   "cell_type": "code",
   "execution_count": 257,
   "metadata": {},
   "outputs": [],
   "source": [
    "from sagemaker.predictor import Predictor\n",
    "pred = Predictor(endpoint_name)\n",
    "pred.serializer = sagemaker.serializers.JSONSerializer()\n",
    "pred.deserializer = sagemaker.deserializers.JSONDeserializer()"
   ]
  },
  {
   "cell_type": "markdown",
   "metadata": {},
   "source": [
    "## Invoke endpoint "
   ]
  },
  {
   "cell_type": "code",
   "execution_count": 258,
   "metadata": {},
   "outputs": [],
   "source": [
    "raw_text = {\"paragraphs\": [\"A Guide to Managing Your (Newly) Remote Workers\\nWith the Covid-19 epidemic, many employees and their managers are finding themselves working out of the office and separated from each other for the first time.\\n Fortunately, there are specific, research-based steps that managers can take without great effort to improve the engagement and productivity of remote employees, even when there is little time to prepare.\\n First, it s important to understand the common challenges, from isolation to distractions to lack of face-to-face supervision.\\n Then managers can support remote workers with 1) regular, structured check-ins; 2) multiple communication options (and established norms for each; 3) opportunities for social interactions; and 4) ongoing encouragement and emotional support.\\nLeer en espa\\u00f1ol In these difficult times, we ve made a number of our coronavirus articles free for all readers.\\n To get all of HBR s content delivered to your inbox, sign up for the Daily Alert newsletter.\\nIn response to the uncertainties presented by Covid-19, many companies and universities have asked their employees to work remotely.\\n While close to a quarter of the U.\\nS.\\n workforce already works from home at least part of the time, the new policies leave many employees and their managers working out of the office and separated from each other for the first time.\\nAlthough it is always preferable to establish clear remote-work policies and training in advance, in times of crisis or other rapidly changing circumstances, this level of preparation may not be feasible.\\n Fortunately, there are specific, research-based steps that managers can take without great effort to improve the engagement and productivity of remote employees, even when there is little time to prepare.\\nCommon Challenges of Remote Work\\n\", \"To start, managers need to understand factors that can make remote work especially demanding.\\n Otherwise high-performing employees may experience declines in job performance and engagement when they begin working remotely, especially in the absence of preparation and training.\\n Challenges inherent in remote work include:\\nLack of face-to-face supervision: Both managers and their employees often express concerns about the lack of face-to-face interaction.\\n Supervisors worry that employees will not work as hard or as efficiently (though research indicates otherwise, at least for some types of jobs).\\n Many employees, on the other hand, struggle with reduced access to managerial support and communication.\\n In some cases, employees feel that remote managers are out of touch with their needs, and thereby are neither supportive nor helpful in getting their work done.\\nLack of access to information: Newly remote workers are often surprised by the added time and effort needed to locate information from coworkers.\\n Even getting answers to what seem like simple questions can feel like a large obstacle to a worker based at home.\\nThis phenomenon extends beyond task-related work to interpersonal challenges that can emerge among remote coworkers.\\n Research has found that a lack of mutual knowledge among remote workers translates to a lower willingness to give coworkers the benefit of the doubt in difficult situations.\\n For example, if you know that your officemate is having a rough day, you will view a brusque email from them as a natural product of their stress.\\n However, if you receive this email from a remote coworker, with no understanding of their current circumstances, you are more likely to take offense, or at a minimum to think poorly of your coworker s professionalism.\\n\", \"Social isolation: Loneliness is one of the most common complaints about remote work, with employees missing the informal social interaction of an office setting.\\n It is thought that extraverts may suffer from isolation more in the short run, particularly if they do not have opportunities to connect with others in their remote-work environment.\\n However, over a longer period of time, isolation can cause any employee to feel less belonging to their organization, and can even result in increased intention to leave the company.\\nDistractions at home: We often see photos representing remote work which portray a parent holding a child and typing on a laptop, often sitting on a sofa or living-room floor.\\n In fact, this is a terrible representation of effective virtual work.\\n Typically, we encourage employers to ensure that their remote workers have both dedicated workspace and adequate childcare before allowing them to work remotely.\\n Yet, in the case of a sudden transition to virtual work, there is a much greater chance that employees will be contending with suboptimal workspaces and (in the case of school and daycare closures) unexpected parenting responsibilities.\\n Even in normal circumstances family and home demands can impinge on remote work; managers should expect these distractions to be greater during this unplanned work-from-home transition.\\nHow Managers Can Support Remote Employees\\nAs much as remote work can be fraught with challenges, there are also relatively quick and inexpensive things that managers can do to ease the transition.\\n Actions that you can take today include:\\n\", \"Establish structured daily check-ins: Many successful remote managers establish a daily call with their remote employees.\\n This could take the form of a series of one-on-one calls, if your employees work more independently from each other, or a team call, if their work is highly collaborative.\\n The important feature is that the calls are regular and predictable, and that they are a forum in which employees know that they can consult with you, and that their concerns and questions will be heard.\\n\", \"Provide several different communication technology options: Email alone is insufficient.\\n Remote workers benefit from having a richer technology, such as video conferencing, that gives participants many of the visual cues that they would have if they were face-to-face.\\n Video conferencing has many advantages, especially for smaller groups: Visual cues allow for increased mutual knowledge about coworkers and also help reduce the sense of isolation among teams.\\n Video is also particularly useful for complex or sensitive conversations, as it feels more personal than written or audio-only communication.\\nThere are other circumstances when quick collaboration is more important than visual detail.\\n For these situations, provide mobile-enabled individual messaging functionality (like Slack, Zoom, Microsoft Teams, etc.\\n) which can be used for simpler, less formal conversations, as well as time-sensitive communication.\\nIf your company doesn t have technology tools already in place, there are inexpensive ways to obtain simple versions of these tools for your team, as a short-term fix.\\n Consult with your organization s IT department to ensure there is an appropriate level of data security before using any of these tools.\\nAnd then establish rules of engagement : Remote work becomes more efficient and satisfying when managers set expectations for the frequency, means, and ideal timing of communication for their teams.\\n For example, We use videoconferencing for daily check-in meetings, but we use IM when something is urgent.\\n Also, if you can, let your employees know the best way and time to reach you during the workday (e.\\ng.\\n, I tend to be more available late in the day for ad hoc phone or video conversations, but if there s an emergency earlier in the day, send me a text.\\n ) Finally, keep an eye on communication among team members (to the extent appropriate), to ensure that they are sharing information as needed.\\nWe recommend that managers establish these rules of engagement with employees as soon as possible, ideally during the first online check-in meeting.\\n While some choices about specific expectations may be better than others, the most important factor is that all employees share the same set of expectations for communication.\\nProvide opportunities for remote social interaction: One of the most essential steps a manager can take is to structure ways for employees to interact socially (that is, have informal conversations about non-work topics) while working remotely.\\n This is true for all remote workers, but particularly so for workers who have been abruptly transitioned out of the office.\\nThe easiest way to establish some basic social interaction is to leave some time at the beginning of team calls just for non-work items (e.\\ng.\\n, We re going to spend the first few minutes just catching up with each other.\\n How was your weekend? ).\\n Other options include virtual pizza parties (in which pizza is delivered to all team members at the time of a videoconference), or virtual office parties (in which party care packages can be sent in advance to be opened and enjoyed simultaneously).\\n While these types of events may sound artificial or forced, experienced managers of remote workers (and the workers themselves) report that virtual events help reduce feelings of isolation, promoting a sense of belonging.\\nOffer encouragement and emotional support: Especially in the context of an abrupt shift to remote work, it is important for managers to acknowledge stress, listen to employees anxieties and concerns, and empathize with their struggles.\\n If a newly remote employee is clearly struggling but not communicating stress or anxiety, ask them how they re doing.\\n Even a general question such as How is this remote work situation working out for you so far? can elicit important information that you might not otherwise hear.\\n Once you ask the question, be sure to listen carefully to the response, and briefly restate it back to the employee, to ensure that you understood correctly.\\n Let the employee s stress or concerns (rather than your own) be the focus of this conversation.\\nResearch on emotional intelligence and emotional contagion tells us that employees look to their managers for cues about how to react to sudden changes or crisis situations.\\n If a manager communicates stress and helplessness, this will have what Daniel Goleman calls a trickle-down effect on employees.\\n Effective leaders take a two-pronged approach, both acknowledging the stress and anxiety that employees may be feeling in difficult circumstances, but also providing affirmation of their confidence in their teams, using phrases such as we ve got this, or this is tough, but I know we can handle it, or let s look for ways to use our strengths during this time.\\n With this support, employees are more likely to take up the challenge with a sense of purpose and focus.\\nWe ll add our own note of encouragement to managers facing remote work for the first time: you ve got this.\\n Let us know in the comments your own tips for managing your remote employees.\\n\"]}"
   ]
  },
  {
   "cell_type": "code",
   "execution_count": 262,
   "metadata": {},
   "outputs": [
    {
     "name": "stdout",
     "output_type": "stream",
     "text": [
      "CPU times: user 4.02 ms, sys: 396 µs, total: 4.42 ms\n",
      "Wall time: 14.7 s\n"
     ]
    },
    {
     "data": {
      "text/plain": [
       "['Remote workers benefit from having a richer technology, such as video conferencing, that gives participants many of the visual cues that they would have if they were face-to-face. Video is also particularly useful for complex or sensitive conversations, as it feels more personal than written or audio-only communication. Remote work becomes more efficient and satisfying when managers set expectations for the frequency, means, and ideal timing of communication for their teams, the authors say. The easiest way to establish some basic social interaction is to leave some time at the beginning of team calls just for non-work items (e. g. How was your weekend? ). Other options include virtual pizza parties (in which pizza is delivered to all team members at the time of a videoconference), or virtual office parties ( in which party care packages can be sent in advance to be opened and enjoyed simultaneously) The authors recommend that managers establish these rules of engagement with employees as soon as possible, ideally during the first online check-in meeting.',\n",
       " 'A Guide to Managing Your (Newly) Remote Workers. With the Covid-19 epidemic, many employees and their managers are finding themselves working out of the office and separated from each other for the first time. There are specific, research-based steps that managers can take without great effort to improve the engagement and productivity of remote employees.',\n",
       " 'High-performing employees may experience declines in job performance and engagement when they begin working remotely. Supervisors worry that employees will not work as hard or as efficiently. Many employees struggle with reduced access to managerial support and communication. A lack of mutual knowledge among remote workers translates to a lower willingness to give coworkers the benefit of the doubt in difficult situations.',\n",
       " 'Loneliness is one of the most common complaints about remote work. Extraverts may suffer from isolation more in the short run, particularly if they do not have opportunities to connect with others in their remote-work environment. Distractions at home can impinge on remote work; managers should expect these distractions to be greater during this unplanned work-from-home transition.',\n",
       " 'Many successful remote managers establish a daily call with their remote employees. This could take the form of a series of one-on-one calls, or a team']"
      ]
     },
     "execution_count": 262,
     "metadata": {},
     "output_type": "execute_result"
    }
   ],
   "source": [
    "%%time\n",
    "model_archive = '/summarizer1.tar.gz'\n",
    "pred.predict(raw_text['paragraphs'], target_model=model_archive, target_variant=None)"
   ]
  },
  {
   "cell_type": "code",
   "execution_count": 263,
   "metadata": {},
   "outputs": [
    {
     "name": "stdout",
     "output_type": "stream",
     "text": [
      "CPU times: user 4.21 ms, sys: 0 ns, total: 4.21 ms\n",
      "Wall time: 8.62 s\n"
     ]
    },
    {
     "data": {
      "text/plain": [
       "[' Remote workers benefit from having a richer technology, such as video conferencing, that gives participants many of the visual cues that they would have if they were face-to-face. Remote work becomes more efficient and satisfying when managers set expectations for the frequency, means, and ideal timing of communication for their teams. The easiest way to establish some basic social interaction is to leave some time at the beginning of team calls just for non-work items. Other options include virtual pizza parties (in which pizza is delivered to all team members at the time of a videoconference) or virtual office parties. Offer encouragement and emotional support: Especially in the context of an abrupt shift to remote work, it is important for managers to acknowledge stress, listen to employees anxieties and concerns, and empathize with their struggles, and help them empathize for their struggles. Let us ve got your own tips for managing remote workers. We ll add our own tips in the comments',\n",
       " ' A Guide to Managing Your (Newly) Remote Workers. With the Covid-19 epidemic, many employees and their managers are finding themselves working out of the office and separated from each other for the first time. Fortunately, there are specific, research-based steps that managers can take without great effort to improve engagement and productivity of remote employees.',\n",
       " ' High-performing employees may experience declines in job performance and engagement when they begin working remotely. Challenges inherent in remote work include: Lack of face-to-face supervision, lack of access to information. Research has found that a lack of mutual knowledge among remote workers translates to a lower willingness to give coworkers the benefit of the doubt in difficult situations.',\n",
       " ' Loneliness is one of the most common complaints about remote work, with employees missing the informal social interaction of an office setting. Distractions at home are a terrible representation of effective virtual work. Parents should expect these distractions to be greater during this unplanned work-from-home transition.',\n",
       " ' Many successful remote managers establish a daily call with their remote employees. This could take the form of a series of one-on-one calls, or a team']"
      ]
     },
     "execution_count": 263,
     "metadata": {},
     "output_type": "execute_result"
    }
   ],
   "source": [
    "%%time\n",
    "model_archive = '/summarizer2.tar.gz'\n",
    "pred.predict(raw_text['paragraphs'], target_model=model_archive, target_variant=None)"
   ]
  },
  {
   "cell_type": "markdown",
   "metadata": {},
   "source": [
    "## Cleanup"
   ]
  },
  {
   "cell_type": "code",
   "execution_count": null,
   "metadata": {},
   "outputs": [],
   "source": [
    "\n",
    "predictor.delete_endpoint(delete_endpoint_config=True)"
   ]
  },
  {
   "cell_type": "code",
   "execution_count": null,
   "metadata": {},
   "outputs": [],
   "source": [
    "predictor.delete_model()"
   ]
  }
 ],
 "metadata": {
  "kernelspec": {
   "display_name": "conda_pytorch_p36",
   "language": "python",
   "name": "conda_pytorch_p36"
  },
  "language_info": {
   "codemirror_mode": {
    "name": "ipython",
    "version": 3
   },
   "file_extension": ".py",
   "mimetype": "text/x-python",
   "name": "python",
   "nbconvert_exporter": "python",
   "pygments_lexer": "ipython3",
   "version": "3.6.10"
  }
 },
 "nbformat": 4,
 "nbformat_minor": 4
}
